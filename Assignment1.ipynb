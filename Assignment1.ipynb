{
 "cells": [
  {
   "cell_type": "code",
   "execution_count": null,
   "metadata": {},
   "outputs": [],
   "source": [
    "# AssignExtra1- Input,TypeConversion"
   ]
  },
  {
   "cell_type": "code",
   "execution_count": 1,
   "metadata": {},
   "outputs": [
    {
     "name": "stdout",
     "output_type": "stream",
     "text": [
      "Temp. in fahrenheit : 95\n",
      "Temp. in Celsius is :  35.0 Degree\n"
     ]
    }
   ],
   "source": [
    "#Q1\n",
    "\n",
    "f = int(input('Temp. in fahrenheit : '))\n",
    "c = (f-32)*5/9\n",
    "print ('Temp. in Celsius is : ', c, 'Degree')"
   ]
  },
  {
   "cell_type": "code",
   "execution_count": 2,
   "metadata": {},
   "outputs": [
    {
     "name": "stdout",
     "output_type": "stream",
     "text": [
      "input a no. A : 15\n",
      "input a no. B : 20\n",
      "Square of A is :  225    Cube of B is :  8000\n"
     ]
    }
   ],
   "source": [
    "#Q2\n",
    "\n",
    "x = int(input('input a no. A : '))\n",
    "y = int(input('input a no. B : '))\n",
    "a = x**2\n",
    "b = y**3\n",
    "print ('Square of A is : ', a, '  ', 'Cube of B is : ', b)"
   ]
  },
  {
   "cell_type": "code",
   "execution_count": 3,
   "metadata": {},
   "outputs": [
    {
     "name": "stdout",
     "output_type": "stream",
     "text": [
      "input n:5\n",
      "input m:10\n",
      "125\n"
     ]
    }
   ],
   "source": [
    "#Q3\n",
    "\n",
    "n = int(input(\"input n:\"))\n",
    "m = int(input(\"input m:\"))\n",
    "a = n**2 + m**2\n",
    "print(a)"
   ]
  },
  {
   "cell_type": "code",
   "execution_count": 8,
   "metadata": {},
   "outputs": [
    {
     "name": "stdout",
     "output_type": "stream",
     "text": [
      "input M:2\n",
      "input N:5\n",
      "32 \t  32\n"
     ]
    }
   ],
   "source": [
    "#Q4\n",
    "\n",
    "M = int(input(\"input M:\"))\n",
    "N = int(input(\"input N:\"))\n",
    "x = M**N\n",
    "y = pow(M,N)\n",
    "print (x, '\\t ', y)\n"
   ]
  },
  {
   "cell_type": "code",
   "execution_count": 10,
   "metadata": {},
   "outputs": [
    {
     "name": "stdout",
     "output_type": "stream",
     "text": [
      "enter the value of principle:1000\n",
      "enter the value of r.o.i:20\n",
      "enter time period:3\n",
      "SI 600.0\n"
     ]
    }
   ],
   "source": [
    "#Q5\n",
    "\n",
    "P = int(input(\"enter the value of principle:\"))\n",
    "r = int(input(\"enter the value of r.o.i:\"))\n",
    "t = int(input(\"enter time period:\"))\n",
    "SI = P*t*r/100\n",
    "print (\"SI\", SI)"
   ]
  },
  {
   "cell_type": "code",
   "execution_count": 13,
   "metadata": {},
   "outputs": [
    {
     "name": "stdout",
     "output_type": "stream",
     "text": [
      "input a no:10\n",
      "55.0\n"
     ]
    }
   ],
   "source": [
    "#Q7\n",
    "\n",
    "n = int(input(\"input a no:\"))\n",
    "a = n*(n+1)/2\n",
    "print(a)"
   ]
  },
  {
   "cell_type": "code",
   "execution_count": 14,
   "metadata": {},
   "outputs": [
    {
     "name": "stdout",
     "output_type": "stream",
     "text": [
      "input a no. A:10\n",
      "input a no. B:20\n",
      "value of A is: 20 value of B is: 10\n"
     ]
    }
   ],
   "source": [
    "#Q8\n",
    "\n",
    "a = int(input(\"input a no. A:\"))\n",
    "b = int(input(\"input a no. B:\"))\n",
    "print (\"value of A is:\",b , \"value of B is:\",a)"
   ]
  },
  {
   "cell_type": "code",
   "execution_count": 15,
   "metadata": {},
   "outputs": [
    {
     "name": "stdout",
     "output_type": "stream",
     "text": [
      "enter one character:R\n",
      "82\n"
     ]
    }
   ],
   "source": [
    "#Q10\n",
    "\n",
    "a = input(\"enter one character:\")\n",
    "print(ord (a))"
   ]
  },
  {
   "cell_type": "code",
   "execution_count": 22,
   "metadata": {},
   "outputs": [
    {
     "name": "stdout",
     "output_type": "stream",
     "text": [
      "enter the area of a circle: 400\n",
      "radius is 11.286652959662007 \n",
      "diameter is  22.573305919324014 \n",
      "circumference is: 70.88018058667741\n"
     ]
    }
   ],
   "source": [
    "#Q11\n",
    "import math\n",
    "PI = math.pi\n",
    "A = int(input('enter the area of a circle: '))\n",
    "r = (A/3.14)**0.5\n",
    "d = 2*(A/3.14)**0.5\n",
    "c  = 2*3.14*r              \n",
    "print ('radius is', r,'\\n' 'diameter is ', d,'\\n' 'circumference is:',c)\n"
   ]
  },
  {
   "cell_type": "code",
   "execution_count": null,
   "metadata": {},
   "outputs": [],
   "source": [
    "# 6,9,12 incomplete(unable to solve)"
   ]
  }
 ],
 "metadata": {
  "kernelspec": {
   "display_name": "Python 3",
   "language": "python",
   "name": "python3"
  },
  "language_info": {
   "codemirror_mode": {
    "name": "ipython",
    "version": 3
   },
   "file_extension": ".py",
   "mimetype": "text/x-python",
   "name": "python",
   "nbconvert_exporter": "python",
   "pygments_lexer": "ipython3",
   "version": "3.8.3"
  }
 },
 "nbformat": 4,
 "nbformat_minor": 4
}
